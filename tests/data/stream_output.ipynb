{
 "cells": [
  {
   "cell_type": "code",
   "execution_count": 1,
   "id": "",
   "metadata": {},
   "outputs": [
    {
     "name": "stdout",
     "output_type": "stream",
     "text": [
      "Counting... 0\n",
      "Counting... 1\n",
      "Counting... 2\n",
      "Counting... 3\n",
      "Counting... 4\n"
     ]
    },
    {
     "name": "stdout",
     "output_type": "stream",
     "text": [
      "Counting... 2\n"
     ]
    },
    {
     "name": "stdout",
     "output_type": "stream",
     "text": [
      "Counting... 3\n"
     ]
    },
    {
     "name": "stdout",
     "output_type": "stream",
     "text": [
      "Counting... 4\n"
     ]
    }
   ],
   "source": [
    "# Stream output\n",
    "import time\n",
    "\n",
    "for i in range(5):\n",
    "    print(f\"Counting... {i}\")\n",
    "    time.sleep(1)  # Creates a delay to simulate a streaming output"
   ]
  }
 ],
 "metadata": {
  "kernelspec": {
   "display_name": "Python 3 (ipykernel)",
   "language": "python",
   "name": "python3"
  },
  "language_info": {
   "codemirror_mode": {
    "name": "ipython",
    "version": 3
   },
   "file_extension": ".py",
   "mimetype": "text/x-python",
   "name": "python",
   "nbconvert_exporter": "python",
   "pygments_lexer": "ipython3",
   "version": "3.12.5"
  }
 },
 "nbformat": 4,
 "nbformat_minor": 5
}

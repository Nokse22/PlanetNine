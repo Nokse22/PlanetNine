{
 "cells": [
  {
   "cell_type": "code",
   "execution_count": 1,
   "id": "",
   "metadata": {},
   "outputs": [
    {
     "data": {
      "text/markdown": [
       "\n",
       "# Markdown Example\n",
       "\n",
       "- **Bold text**\n",
       "- *Italic text*\n",
       "- `Code snippet`\n",
       "\n",
       "> Blockquote\n",
       "\n",
       "[Gnome](https://www.gnome.org)\n"
      ],
      "text/plain": [
       "<IPython.core.display.Markdown object>"
      ]
     },
     "metadata": {},
     "output_type": "display_data"
    }
   ],
   "source": [
    "# Displaying Markdown\n",
    "from IPython.display import Markdown\n",
    "\n",
    "markdown_text = \"\"\"\n",
    "# Markdown Example\n",
    "\n",
    "- **Bold text**\n",
    "- *Italic text*\n",
    "- `Code snippet`\n",
    "\n",
    "> Blockquote\n",
    "\n",
    "[Gnome](https://www.gnome.org)\n",
    "\"\"\"\n",
    "display(Markdown(markdown_text))"
   ]
  }
 ],
 "metadata": {
  "kernelspec": {
   "display_name": "Python 3 (ipykernel)",
   "language": "python",
   "name": "python3"
  },
  "language_info": {
   "codemirror_mode": {
    "name": "ipython",
    "version": 3
   },
   "file_extension": ".py",
   "mimetype": "text/x-python",
   "name": "python",
   "nbconvert_exporter": "python",
   "pygments_lexer": "ipython3",
   "version": "3.12.5"
  }
 },
 "nbformat": 4,
 "nbformat_minor": 5
}

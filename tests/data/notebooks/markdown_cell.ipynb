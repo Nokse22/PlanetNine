{
 "cells": [
  {
   "cell_type": "markdown",
   "id": "d7c828fe",
   "metadata": {},
   "source": [
    "# Markdown Output\n",
    "\n",
    "This is an example of a markdown cell. You can **bold** text, *italicize* text, or create [links](https://www.example.com).\n",
    "\n",
    "- Bullet Point 1\n",
    "- Bullet Point 2\n",
    "  - Sub Bullet Point\n",
    "\n",
    "Here is a block quote:\n",
    "\n",
    "> \"This is a block quote in markdown.\"\n",
    "\n",
    "And here is some code:\n",
    "\n",
    "```python\n",
    "print(\"Hello, World!\")\n",
    "```"
   ]
  }
 ],
 "metadata": {
  "kernelspec": {
   "display_name": "Python 3 (ipykernel)",
   "language": "python",
   "name": "python3"
  },
  "language_info": {
   "codemirror_mode": {
    "name": "ipython",
    "version": 3
   },
   "file_extension": ".py",
   "mimetype": "text/x-python",
   "name": "python",
   "nbconvert_exporter": "python",
   "pygments_lexer": "ipython3",
   "version": "3.12.5"
  }
 },
 "nbformat": 4,
 "nbformat_minor": 5
}
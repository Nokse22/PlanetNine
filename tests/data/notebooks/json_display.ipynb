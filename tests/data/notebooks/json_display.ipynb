{
 "cells": [
  {
   "cell_type": "code",
   "execution_count": 1,
   "id": "34dac9b4-5feb-40cc-b445-b1a68d99a48b",
   "metadata": {},
   "outputs": [
    {
     "data": {
      "application/json": "{'address': {'city': 'New York', 'zipcode': '10001'}, 'age': 30, 'employed': True, 'name': 'Mark', 'skills': ['Python', 'C++', 'Rust']}",
      "text/plain": [
       "<IPython.core.display.JSON object>"
      ]
     },
     "execution_count": 1,
     "metadata": {
      "application/json": {
       "expanded": false,
       "root": "root"
      }
     },
     "output_type": "execute_result"
    }
   ],
   "source": [
    "from IPython.display import JSON\n",
    "\n",
    "json_data = {\n",
    "    \"name\": \"Mark\",\n",
    "    \"age\": 30,\n",
    "    \"employed\": True,\n",
    "    \"address\": {\n",
    "        \"city\": \"New York\",\n",
    "        \"zipcode\": \"10001\"\n",
    "    },\n",
    "    \"skills\": [\"Python\", \"C\"]\n",
    "}\n",
    "\n",
    "JSON(json_data)"
   ]
  }
 ],
 "metadata": {
  "kernelspec": {
   "display_name": "Python 3 (ipykernel)",
   "language": "python",
   "name": "python3"
  },
  "language_info": {
   "codemirror_mode": {
    "name": "ipython",
    "version": 3
   },
   "file_extension": ".py",
   "mimetype": "text/x-python",
   "name": "python",
   "nbconvert_exporter": "python",
   "pygments_lexer": "ipython3",
   "version": "3.12.5"
  }
 },
 "nbformat": 4,
 "nbformat_minor": 5
}